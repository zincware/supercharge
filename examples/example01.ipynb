{
 "cells": [
  {
   "cell_type": "markdown",
   "source": [
    "[![Open In Colab](https://colab.research.google.com/assets/colab-badge.svg)](https://colab.research.google.com/github/zincware/supercharge/blob/main/examples/example01.ipynb)"
   ],
   "metadata": {
    "collapsed": false,
    "pycharm": {
     "name": "#%% md\n"
    }
   }
  },
  {
   "cell_type": "code",
   "execution_count": null,
   "outputs": [],
   "source": [
    "!pip install supercharge"
   ],
   "metadata": {
    "collapsed": false,
    "pycharm": {
     "name": "#%%\n"
    }
   }
  },
  {
   "cell_type": "code",
   "execution_count": 1,
   "outputs": [],
   "source": [
    "import supercharge\n",
    "import time\n",
    "import random\n",
    "import pathlib"
   ],
   "metadata": {
    "collapsed": false,
    "pycharm": {
     "name": "#%%\n"
    }
   }
  },
  {
   "cell_type": "code",
   "execution_count": 2,
   "outputs": [],
   "source": [
    "class Node(supercharge.Base):\n",
    "    def __init__(self):\n",
    "        self._run_time = []\n",
    "        self._run_start_time = None\n",
    "\n",
    "        self.random_number = None\n",
    "        self._random_number_cache = None\n",
    "        self._file = pathlib.Path('number.json')\n",
    "\n",
    "    @supercharge.Charge\n",
    "    def run(self):\n",
    "        \"\"\"Function to be timed\"\"\"\n",
    "        raise NotImplementedError\n",
    "    @run.enter\n",
    "    def pre_run(self):\n",
    "        self._run_start_time = time.time()\n",
    "    @run.exit\n",
    "    def post_run(self):\n",
    "        execution_time = time.time() - self._run_start_time\n",
    "        print(f\"Elapsed time: {execution_time:.3f} s\")\n",
    "        self._run_time.append(execution_time)\n",
    "\n",
    "    @supercharge.Charge\n",
    "    def create_random_number(self):\n",
    "        \"\"\"Have a hidden save method\"\"\"\n",
    "        self.random_number = random.randrange(0, 100)\n",
    "\n",
    "    @create_random_number.enter\n",
    "    def _cache_number(self):\n",
    "        \"\"\"Cache the old number\"\"\"\n",
    "        self._random_number_cache = self.random_number\n",
    "\n",
    "    @create_random_number.exit\n",
    "    def _save_number(self):\n",
    "        \"\"\"Save the number to file if it changed\"\"\"\n",
    "        if self._random_number_cache != self.random_number:\n",
    "            self._file.write_text(f\"{self.random_number}\")\n",
    "\n",
    "    @classmethod\n",
    "    def load(cls):\n",
    "        instance = cls()\n",
    "        instance.random_number = int(instance._file.read_text())\n",
    "        return instance"
   ],
   "metadata": {
    "collapsed": false,
    "pycharm": {
     "name": "#%%\n"
    }
   }
  },
  {
   "cell_type": "code",
   "execution_count": 3,
   "outputs": [
    {
     "name": "stdout",
     "output_type": "stream",
     "text": [
      "Elapsed time: 1.011 s\n"
     ]
    }
   ],
   "source": [
    "class MyNode(Node):\n",
    "    def run(self):\n",
    "        time.sleep(1)\n",
    "\n",
    "my_node = MyNode()\n",
    "my_node.run()"
   ],
   "metadata": {
    "collapsed": false,
    "pycharm": {
     "name": "#%%\n"
    }
   }
  },
  {
   "cell_type": "code",
   "execution_count": 4,
   "outputs": [
    {
     "data": {
      "text/plain": "53"
     },
     "execution_count": 4,
     "metadata": {},
     "output_type": "execute_result"
    }
   ],
   "source": [
    "my_node.create_random_number()\n",
    "my_node.random_number"
   ],
   "metadata": {
    "collapsed": false,
    "pycharm": {
     "name": "#%%\n"
    }
   }
  },
  {
   "cell_type": "code",
   "execution_count": 5,
   "outputs": [
    {
     "data": {
      "text/plain": "53"
     },
     "execution_count": 5,
     "metadata": {},
     "output_type": "execute_result"
    }
   ],
   "source": [
    "MyNode.load().random_number"
   ],
   "metadata": {
    "collapsed": false,
    "pycharm": {
     "name": "#%%\n"
    }
   }
  }
 ],
 "metadata": {
  "kernelspec": {
   "display_name": "Python 3",
   "language": "python",
   "name": "python3"
  },
  "language_info": {
   "codemirror_mode": {
    "name": "ipython",
    "version": 2
   },
   "file_extension": ".py",
   "mimetype": "text/x-python",
   "name": "python",
   "nbconvert_exporter": "python",
   "pygments_lexer": "ipython2",
   "version": "2.7.6"
  }
 },
 "nbformat": 4,
 "nbformat_minor": 0
}