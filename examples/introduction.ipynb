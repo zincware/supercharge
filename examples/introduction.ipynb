{
 "cells": [
  {
   "cell_type": "markdown",
   "source": [
    "[![Open In Colab](https://colab.research.google.com/assets/colab-badge.svg)](https://colab.research.google.com/github/zincware/supercharge/blob/main/examples/introduction.ipynb)"
   ],
   "metadata": {
    "collapsed": false,
    "pycharm": {
     "name": "#%% md\n"
    }
   }
  },
  {
   "cell_type": "code",
   "execution_count": null,
   "outputs": [],
   "source": [
    "!pip install supercharge"
   ],
   "metadata": {
    "collapsed": false,
    "pycharm": {
     "name": "#%%\n"
    }
   }
  },
  {
   "cell_type": "code",
   "execution_count": 8,
   "outputs": [],
   "source": [
    "from supercharge import Charge\n",
    "\n",
    "class HelloWorld:\n",
    "    def __init__(self):\n",
    "        self.run_prepared = False\n",
    "        self.run_state = False\n",
    "\n",
    "    @Charge\n",
    "    def run(self):\n",
    "        if self.run_prepared:\n",
    "            print(\"running ...\")\n",
    "\n",
    "    @run.pre\n",
    "    def pre_run(self):\n",
    "        print(\"Starting\")\n",
    "        self.run_prepared = True\n",
    "\n",
    "    @run.post\n",
    "    def post_run(self):\n",
    "        print(\"Finished\")\n",
    "        self.run_state = True"
   ],
   "metadata": {
    "collapsed": false,
    "pycharm": {
     "name": "#%%\n"
    }
   }
  },
  {
   "cell_type": "code",
   "execution_count": 9,
   "outputs": [
    {
     "name": "stdout",
     "output_type": "stream",
     "text": [
      "Starting\n",
      "running ...\n",
      "Finished\n"
     ]
    }
   ],
   "source": [
    "hello_world = HelloWorld()\n",
    "hello_world.run()"
   ],
   "metadata": {
    "collapsed": false,
    "pycharm": {
     "name": "#%%\n"
    }
   }
  },
  {
   "cell_type": "code",
   "execution_count": 10,
   "outputs": [],
   "source": [
    "from supercharge import Base\n",
    "\n",
    "class HelloWorld(Base):\n",
    "    def __init__(self):\n",
    "        self.run_prepared = False\n",
    "        self.run_state = False\n",
    "\n",
    "    @Charge\n",
    "    def run(self):\n",
    "        raise NotImplementedError\n",
    "\n",
    "    @run.pre\n",
    "    def pre_run(self):\n",
    "        print(\"Starting\")\n",
    "        self.run_prepared = True\n",
    "\n",
    "    @run.post\n",
    "    def post_run(self):\n",
    "        print(\"Finished\")\n",
    "        self.run_state = True\n",
    "\n",
    "class Child(HelloWorld):\n",
    "    def run(self):\n",
    "        if self.run_prepared:\n",
    "            print(\"running ...\")"
   ],
   "metadata": {
    "collapsed": false,
    "pycharm": {
     "name": "#%%\n"
    }
   }
  },
  {
   "cell_type": "code",
   "execution_count": 11,
   "outputs": [
    {
     "name": "stdout",
     "output_type": "stream",
     "text": [
      "Starting\n",
      "running ...\n",
      "Finished\n"
     ]
    }
   ],
   "source": [
    "child = Child()\n",
    "child.run()"
   ],
   "metadata": {
    "collapsed": false,
    "pycharm": {
     "name": "#%%\n"
    }
   }
  }
 ],
 "metadata": {
  "kernelspec": {
   "display_name": "Python 3",
   "language": "python",
   "name": "python3"
  },
  "language_info": {
   "codemirror_mode": {
    "name": "ipython",
    "version": 2
   },
   "file_extension": ".py",
   "mimetype": "text/x-python",
   "name": "python",
   "nbconvert_exporter": "python",
   "pygments_lexer": "ipython2",
   "version": "2.7.6"
  }
 },
 "nbformat": 4,
 "nbformat_minor": 0
}